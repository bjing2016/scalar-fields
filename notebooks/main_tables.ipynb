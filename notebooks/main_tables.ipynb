{
 "cells": [
  {
   "cell_type": "code",
   "execution_count": 1,
   "id": "0fe92072-1a9c-4bed-ab0a-b70d1c8e57d5",
   "metadata": {},
   "outputs": [],
   "source": [
    "import json, os, tqdm\n",
    "import pandas as pd\n",
    "import numpy as np\n",
    "from sklearn.metrics import roc_auc_score\n",
    "from collections import defaultdict"
   ]
  },
  {
   "cell_type": "markdown",
   "id": "c64a6d09-d447-4d3f-b99b-f5edff636a32",
   "metadata": {},
   "source": [
    "## Table 1 - Characteristic timings"
   ]
  },
  {
   "cell_type": "code",
   "execution_count": 2,
   "id": "1e8ce123-2d89-4b3b-9e91-30e006583c9f",
   "metadata": {},
   "outputs": [],
   "source": [
    "timing_vote_log = defaultdict(list)\n",
    "def log_timing_vote(key, time):\n",
    "    #print(key, time)\n",
    "    timing_vote_log[key].append(time)"
   ]
  },
  {
   "cell_type": "code",
   "execution_count": 3,
   "id": "403c3c71-4c73-45bb-a303-03ae5776f1b3",
   "metadata": {},
   "outputs": [],
   "source": [
    "for path in [ # T-SCORING RUNS\n",
    "    '../paper_results/scoring/ESF/TS_pdbbind/timings.csv',\n",
    "    '../paper_results/scoring/ESF/TS_pdbbind_esmfold/timings.csv',\n",
    "    '../paper_results/scoring/ESF_N/TS_pdbbind/timings.csv',\n",
    "    '../paper_results/scoring/ESF_N/TS_pdbbind_esmfold/timings.csv',\n",
    "]:\n",
    "    timings = pd.read_csv(path).iloc[10:]\n",
    "    log_timing_vote('protein model', timings['protein_model'].mean())\n",
    "    log_timing_vote('protein fft', timings['protein_fft'].mean())\n",
    "    log_timing_vote('ligand model', timings['ligand_model'].mean() / 32) # number of conformers\n",
    "    log_timing_vote('ligand fft', (timings['ligand_coeffs'] + timings['ligand_fft']).mean() / 32**2) # number of conformers x rotations\n",
    "    log_timing_vote('T-scoring', timings['scoring'].mean() / 32**3) # number of poses"
   ]
  },
  {
   "cell_type": "code",
   "execution_count": 4,
   "id": "63eb60cc-b050-445e-b3a8-de4bca3fa6c8",
   "metadata": {},
   "outputs": [],
   "source": [
    "for path in [ # R-SCORING RUNS\n",
    "    '../paper_results/scoring/ESF/RS_pdbbind/timings.csv',\n",
    "    '../paper_results/scoring/ESF/RS_pdbbind_esmfold/timings.csv',\n",
    "    '../paper_results/scoring/ESF_N/RS_pdbbind/timings.csv',\n",
    "    '../paper_results/scoring/ESF_N/RS_pdbbind_esmfold/timings.csv',\n",
    "]:  \n",
    "    timings = pd.read_csv(path).iloc[10:]\n",
    "    log_timing_vote('protein model', timings['protein_model'].mean())\n",
    "    log_timing_vote('protein coeffs', timings['protein_coeffs'].mean() / 32) # number of translations\n",
    "    log_timing_vote('ligand model', timings['ligand_model'].mean() / 32) # number of conformers\n",
    "    log_timing_vote('ligand coeffs', timings['ligand_coeffs'].mean() / 32) # number of conformers\n",
    "    log_timing_vote('R-scoring', timings['scoring'].mean() / 32**3) # number of poses"
   ]
  },
  {
   "cell_type": "code",
   "execution_count": 5,
   "id": "52b436e3-bf8b-4429-84e0-713de771f213",
   "metadata": {},
   "outputs": [],
   "source": [
    "for path in [ # T-OPT RUNS\n",
    "    '../paper_results/docking/ESF/pdbbind/T_grid2_scaling1.json',\n",
    "    '../paper_results/docking/ESF/pdbbind_esmfold/T_grid2_scaling1.json',\n",
    "    '../paper_results/docking/ESF_N/pdbbind/T_grid2_scaling1.json',\n",
    "    '../paper_results/docking/ESF_N/pdbbind_esmfold/T_grid2_scaling1.json'\n",
    "]:\n",
    "    timings = pd.DataFrame(json.load(open(path))['timings']).T.iloc[10:]\n",
    "    log_timing_vote('protein model', timings['protein_model'].mean())\n",
    "    log_timing_vote('protein fft', timings['protein_fft'].mean())\n",
    "    # log_timing_vote('ligand model', timings['ligand_model'].mean()) # not reliable since ligands aren't batched\n",
    "    log_timing_vote('ligand fft', timings['ligand_fft'].mean() / 4608) # number of rotations\n",
    "    log_timing_vote('T-FFT', timings['cross_correlate'].mean() / 4608) # number of rotations"
   ]
  },
  {
   "cell_type": "code",
   "execution_count": 6,
   "id": "00dbba57-70b5-4c25-936b-dc309207a270",
   "metadata": {},
   "outputs": [],
   "source": [
    "for path in [ # R-OPT RUNS\n",
    "    '../paper_results/docking/ESF/pdbbind/R_box9_lmax25.json',\n",
    "    '../paper_results/docking/ESF/pdbbind_esmfold/R_box9_lmax25.json',\n",
    "    '../paper_results/docking/ESF_N/pdbbind/R_box9_lmax25.json',\n",
    "    '../paper_results/docking/ESF_N/pdbbind_esmfold/R_box9_lmax25.json',\n",
    "]:\n",
    "    timings = pd.DataFrame(json.load(open(path))['timings']).T.iloc[10:]\n",
    "    log_timing_vote('protein model', timings['protein_model'].mean())\n",
    "    log_timing_vote('protein coeffs', timings['protein_coeffs'].mean() / 729) # number of translations\n",
    "    # log_timing_vote('ligand model', timings['ligand_model'].mean()) # not reliable since ligands aren't batched\n",
    "    # log_timing_vote('ligand coeffs', timings['ligand_coeffs'].mean()) # not reliable since ligands aren't batched\n",
    "    log_timing_vote('R-FFT', timings['fft'].mean() / 729) # number of translations"
   ]
  },
  {
   "cell_type": "code",
   "execution_count": 7,
   "id": "0ffbcc93-e134-40bd-8dd2-3b0dfaed7b3b",
   "metadata": {},
   "outputs": [
    {
     "name": "stdout",
     "output_type": "stream",
     "text": [
      "protein model        59.9 59.9 62.5 62.9 63.6 64.4 65.3 66.1 66.3 66.5 66.6 66.9 68.9 72.3 72.9 1.1e+02\n",
      "protein fft          3.87 3.94 7.01 7.04 7.13 7.2 8.39 11.6\n",
      "protein coeffs       79.4 80.8 80.9 85.0 86.0 87.3 90.5 91.8\n",
      "ligand model         3.65 4.34 4.34 4.35 4.35 4.37 4.39 6.88\n",
      "ligand coeffs        16.6 16.6 16.7 17.8\n",
      "ligand fft           0.838 0.839 1.23 1.62 1.62 1.63 1.64 2.26\n",
      "T-FFT                0.155 0.158 0.161 0.167\n",
      "R-FFT                0.644 0.653 0.653 0.654\n",
      "T-scoring            0.000962 0.000963 0.00135 0.0026\n",
      "R-scoring            0.00816 0.00817 0.00817 0.00817\n"
     ]
    }
   ],
   "source": [
    "## Ordered according to Table 1 in the paper\n",
    "## We eyeball a mean after dropping outliers\n",
    "for key in ['protein model', 'protein fft', 'protein coeffs', 'ligand model', 'ligand coeffs', 'ligand fft', 'T-FFT', 'R-FFT', 'T-scoring', 'R-scoring']:\n",
    "    print(key.ljust(20), ' '.join(map(lambda n: f'{n:.3}', sorted(timing_vote_log[key]))))"
   ]
  },
  {
   "cell_type": "markdown",
   "id": "270d4f0b-c604-4026-89a0-03330d01d1ed",
   "metadata": {},
   "source": [
    "## Table 2 - decoy scoring results"
   ]
  },
  {
   "cell_type": "code",
   "execution_count": 8,
   "id": "3fe6e529-10b1-44e3-b1d5-725da1362a1e",
   "metadata": {},
   "outputs": [],
   "source": [
    "def auroc(csv, key, thresh=2.):\n",
    "    label = csv.rmsd[1:] < thresh\n",
    "    scores = csv[key][1:]\n",
    "    return {f'auroc<{thresh}': roc_auc_score(label, scores)}\n",
    "def top1(csv, keys):\n",
    "    label = np.array(csv.rmsd[1:])\n",
    "    scores = np.array(csv[key][1:])\n",
    "    return {\n",
    "        'top1_rmsd': label[np.argmax(scores)],\n",
    "        #out[key + '_top5_rmsd'] = label[np.argsort(scores)[-5:]].min()\n",
    "        'toprank': (scores >= scores[np.argmin(label)]).sum()\n",
    "    }\n",
    "    return out"
   ]
  },
  {
   "cell_type": "markdown",
   "id": "33223d4e-b59b-4c50-87b6-8b20c44c1d11",
   "metadata": {},
   "source": [
    "### PDBBind scoring"
   ]
  },
  {
   "cell_type": "code",
   "execution_count": 38,
   "id": "bd95b3bb-a240-4842-9c71-3ca96648da9c",
   "metadata": {},
   "outputs": [
    {
     "name": "stderr",
     "output_type": "stream",
     "text": [
      " 69%|███████████████████████████████████████████████████████████████████████████████████████████████████████▋                                              | 251/363 [00:31<00:10, 10.26it/s]"
     ]
    },
    {
     "name": "stdout",
     "output_type": "stream",
     "text": [
      "Error 6a73 [Errno 2] No such file or directory: '../data/PDBBind_processed/6a73/6a73_poses.csv'\n"
     ]
    },
    {
     "name": "stderr",
     "output_type": "stream",
     "text": [
      "100%|██████████████████████████████████████████████████████████████████████████████████████████████████████████████████████████████████████████████████████| 363/363 [00:45<00:00,  7.96it/s]\n"
     ]
    }
   ],
   "source": [
    "paths = {\n",
    "    'T': \"../paper_results/scoring/ESF/TS_pdbbind/\", # shared a GPU so runtime is an anomaly...\n",
    "    'R': \"../paper_results/scoring/ESF/RS_pdbbind/\",\n",
    "    'noise_T': \"../paper_results/scoring/ESF_N/TS_pdbbind/\",\n",
    "    'noise_R': \"../paper_results/scoring/ESF_N/RS_pdbbind/\",\n",
    "}\n",
    "keys = ['vina', 'gnina'] + list(paths.keys())\n",
    "df = pd.read_csv('../splits/timesplit_test.csv')\n",
    "pdbbind_dir = '../data/PDBBind_processed'\n",
    "\n",
    "method_dfs = defaultdict(list)\n",
    "for name in tqdm.tqdm(df.name):\n",
    "    try:\n",
    "        vina_out = f\"../paper_results/scoring/vina/pdbbind/{name}.out\"\n",
    "        vina_out = open(vina_out).read().split('\\n')\n",
    "        vina_scores = [-float(line.split()[1]) for line in vina_out if 'Affinity' in line]\n",
    "\n",
    "        gnina_out = f\"../paper_results/scoring/gnina/pdbbind/{name}.out\"\n",
    "        gnina_out = open(gnina_out).read().split('\\n')\n",
    "        gnina_scores = [float(line.split()[1]) for line in gnina_out if 'CNNscore' in line]\n",
    "        csv = pd.read_csv(f\"{pdbbind_dir}/{name}/{name}_poses.csv\")\n",
    "        csv['gnina'] = gnina_scores\n",
    "        csv['vina'] = vina_scores\n",
    "        for key in paths:\n",
    "            our_scores = np.load(f\"{paths[key]}/{name}.npy\")\n",
    "            csv[key] = our_scores\n",
    "        for key in keys:\n",
    "            method_dfs[key].append({'name': name} | auroc(csv, key) | top1(csv, key))\n",
    "    except Exception as e:\n",
    "        print('Error', name, e)\n",
    "        pass"
   ]
  },
  {
   "cell_type": "code",
   "execution_count": 39,
   "id": "99528375-f56f-48a0-bbdc-5889d1563cf5",
   "metadata": {},
   "outputs": [
    {
     "name": "stderr",
     "output_type": "stream",
     "text": [
      "100%|██████████████████████████████████████████████████████████████████████████████████████████████████████████████████████████████████████████████████████| 363/363 [00:09<00:00, 37.81it/s]"
     ]
    },
    {
     "name": "stdout",
     "output_type": "stream",
     "text": [
      "['6qtr', '6qto', '6qtq', '6qts', '6qsz', '6qtx', '6m7h', '6rtn', '6a73', '6qtw', '6qtm', '6t6a']\n"
     ]
    },
    {
     "name": "stderr",
     "output_type": "stream",
     "text": [
      "\n"
     ]
    }
   ],
   "source": [
    "# TankBind\n",
    "key = 'tankbind'\n",
    "errors = []\n",
    "for name in tqdm.tqdm(df.name):\n",
    "    if not os.path.exists(f\"../paper_results/scoring/tankbind/pdbbind/{name}.npz\"): \n",
    "        errors.append(name); continue\n",
    "    tankbind_out = np.load(f\"../paper_results/scoring/tankbind/pdbbind/{name}.npz\")\n",
    "    csv = pd.read_csv(f\"{pdbbind_dir}/{name}/{name}_poses.csv\")    \n",
    "    csv[key] = tankbind_out['scores']\n",
    "    method_dfs[key].append({'name': name} | auroc(csv, key) | top1(csv, key) | \\\n",
    "                           {'per_pose': tankbind_out['scoring_time'] / (32**3 - 1), 'per_complex': tankbind_out['total_time'] })\n",
    "print(errors)"
   ]
  },
  {
   "cell_type": "code",
   "execution_count": 40,
   "id": "feeb92d1-6b6b-48bf-93be-875479f2d7b2",
   "metadata": {},
   "outputs": [
    {
     "name": "stderr",
     "output_type": "stream",
     "text": [
      "100%|██████████████████████████████████████████████████████████████████████████████████████████████████████████████████████████████████████████████████████| 363/363 [00:09<00:00, 36.88it/s]"
     ]
    },
    {
     "name": "stdout",
     "output_type": "stream",
     "text": [
      "['6o0h', '6a73']\n"
     ]
    },
    {
     "name": "stderr",
     "output_type": "stream",
     "text": [
      "\n"
     ]
    }
   ],
   "source": [
    "# DiffDock\n",
    "errors = []\n",
    "key = 'diffdock'\n",
    "for name in tqdm.tqdm(df.name):\n",
    "    if not os.path.exists(f\"../paper_results/scoring/diffdock/pdbbind/{name}.npz\"):\n",
    "        errors.append(name); continue\n",
    "    diffdock_out = np.load(f\"../paper_results/scoring/diffdock/pdbbind/{name}.npz\")\n",
    "    all_timings.append(diffdock_out['timing'].sum())\n",
    "    csv = pd.read_csv(f\"{pdbbind_dir}/{name}/{name}_poses.csv\")    \n",
    "    csv[key] = diffdock_out['confidence'][:,0]\n",
    "    method_dfs[key].append({'name': name} | auroc(csv, key) | top1(csv, key) | \\\n",
    "                          {'per_pose': diffdock_out['timing'].sum() / (32**3 - 1), 'per_complex': diffdock_out['timing'].sum()})\n",
    "print(errors)"
   ]
  },
  {
   "cell_type": "code",
   "execution_count": 41,
   "id": "5a19a4dc-1ec9-4db3-8a22-65e5b54ec968",
   "metadata": {},
   "outputs": [
    {
     "data": {
      "text/html": [
       "<div>\n",
       "<style scoped>\n",
       "    .dataframe tbody tr th:only-of-type {\n",
       "        vertical-align: middle;\n",
       "    }\n",
       "\n",
       "    .dataframe tbody tr th {\n",
       "        vertical-align: top;\n",
       "    }\n",
       "\n",
       "    .dataframe thead th {\n",
       "        text-align: right;\n",
       "    }\n",
       "</style>\n",
       "<table border=\"1\" class=\"dataframe\">\n",
       "  <thead>\n",
       "    <tr style=\"text-align: right;\">\n",
       "      <th></th>\n",
       "      <th>method</th>\n",
       "      <th>auroc&lt;2.0</th>\n",
       "      <th>top1_rmsd</th>\n",
       "      <th>toprank</th>\n",
       "      <th>rmsd&lt;2</th>\n",
       "      <th>per_pose</th>\n",
       "      <th>per_complex</th>\n",
       "      <th>pct</th>\n",
       "    </tr>\n",
       "  </thead>\n",
       "  <tbody>\n",
       "    <tr>\n",
       "      <th>0</th>\n",
       "      <td>vina</td>\n",
       "      <td>0.930783</td>\n",
       "      <td>0.535812</td>\n",
       "      <td>2.0</td>\n",
       "      <td>0.914365</td>\n",
       "      <td>3.350479</td>\n",
       "      <td>1.097852e+05</td>\n",
       "      <td>1.000000</td>\n",
       "    </tr>\n",
       "    <tr>\n",
       "      <th>1</th>\n",
       "      <td>gnina</td>\n",
       "      <td>0.901632</td>\n",
       "      <td>0.589409</td>\n",
       "      <td>3.0</td>\n",
       "      <td>0.834254</td>\n",
       "      <td>13.438713</td>\n",
       "      <td>4.403463e+05</td>\n",
       "      <td>1.000000</td>\n",
       "    </tr>\n",
       "    <tr>\n",
       "      <th>2</th>\n",
       "      <td>T</td>\n",
       "      <td>0.866294</td>\n",
       "      <td>0.594187</td>\n",
       "      <td>3.0</td>\n",
       "      <td>0.870166</td>\n",
       "      <td>0.001355</td>\n",
       "      <td>3.855353e+03</td>\n",
       "      <td>0.011514</td>\n",
       "    </tr>\n",
       "    <tr>\n",
       "      <th>3</th>\n",
       "      <td>R</td>\n",
       "      <td>0.867013</td>\n",
       "      <td>0.626216</td>\n",
       "      <td>3.0</td>\n",
       "      <td>0.845304</td>\n",
       "      <td>0.008167</td>\n",
       "      <td>5.736527e+03</td>\n",
       "      <td>0.046647</td>\n",
       "    </tr>\n",
       "    <tr>\n",
       "      <th>4</th>\n",
       "      <td>noise_T</td>\n",
       "      <td>0.917205</td>\n",
       "      <td>0.691733</td>\n",
       "      <td>4.0</td>\n",
       "      <td>0.809392</td>\n",
       "      <td>0.000962</td>\n",
       "      <td>3.220698e+03</td>\n",
       "      <td>0.009788</td>\n",
       "    </tr>\n",
       "    <tr>\n",
       "      <th>5</th>\n",
       "      <td>noise_R</td>\n",
       "      <td>0.915764</td>\n",
       "      <td>0.748279</td>\n",
       "      <td>5.0</td>\n",
       "      <td>0.803867</td>\n",
       "      <td>0.008168</td>\n",
       "      <td>5.745759e+03</td>\n",
       "      <td>0.046579</td>\n",
       "    </tr>\n",
       "    <tr>\n",
       "      <th>6</th>\n",
       "      <td>tankbind</td>\n",
       "      <td>0.687665</td>\n",
       "      <td>4.021760</td>\n",
       "      <td>6813.0</td>\n",
       "      <td>0.096866</td>\n",
       "      <td>0.001064</td>\n",
       "      <td>6.226732e+01</td>\n",
       "      <td>0.559851</td>\n",
       "    </tr>\n",
       "    <tr>\n",
       "      <th>7</th>\n",
       "      <td>diffdock</td>\n",
       "      <td>0.964906</td>\n",
       "      <td>0.659582</td>\n",
       "      <td>3.0</td>\n",
       "      <td>0.867036</td>\n",
       "      <td>62.278209</td>\n",
       "      <td>2.040670e+06</td>\n",
       "      <td>1.000000</td>\n",
       "    </tr>\n",
       "  </tbody>\n",
       "</table>\n",
       "</div>"
      ],
      "text/plain": [
       "     method  auroc<2.0  top1_rmsd  toprank    rmsd<2   per_pose   per_complex  \\\n",
       "0      vina   0.930783   0.535812      2.0  0.914365   3.350479  1.097852e+05   \n",
       "1     gnina   0.901632   0.589409      3.0  0.834254  13.438713  4.403463e+05   \n",
       "2         T   0.866294   0.594187      3.0  0.870166   0.001355  3.855353e+03   \n",
       "3         R   0.867013   0.626216      3.0  0.845304   0.008167  5.736527e+03   \n",
       "4   noise_T   0.917205   0.691733      4.0  0.809392   0.000962  3.220698e+03   \n",
       "5   noise_R   0.915764   0.748279      5.0  0.803867   0.008168  5.745759e+03   \n",
       "6  tankbind   0.687665   4.021760   6813.0  0.096866   0.001064  6.226732e+01   \n",
       "7  diffdock   0.964906   0.659582      3.0  0.867036  62.278209  2.040670e+06   \n",
       "\n",
       "        pct  \n",
       "0  1.000000  \n",
       "1  1.000000  \n",
       "2  0.011514  \n",
       "3  0.046647  \n",
       "4  0.009788  \n",
       "5  0.046579  \n",
       "6  0.559851  \n",
       "7  1.000000  "
      ]
     },
     "execution_count": 41,
     "metadata": {},
     "output_type": "execute_result"
    }
   ],
   "source": [
    "analysis_df = []\n",
    "for key in method_dfs:\n",
    "    method_df = pd.DataFrame(method_dfs[key])\n",
    "    analysis_df.append({'method': key} | dict(method_df.median(numeric_only=True)) | {'rmsd<2': (method_df['top1_rmsd'] < 2).mean()})\n",
    "    if key in paths:\n",
    "        timing_csv = pd.read_csv(f'{paths[key]}/timings.csv')\n",
    "        analysis_df[-1] |= {'per_pose': timing_csv['scoring'].mean() / (32**3 - 1), 'per_complex': timing_csv['all'].mean()}\n",
    "    elif key in ['vina', 'gnina']:\n",
    "        timing_csv = pd.read_csv(f'../paper_results/scoring/{key}/pdbbind.csv')\n",
    "        analysis_df[-1] |= {'per_pose': 1000 * timing_csv['time'].mean() / (32**3 - 1), 'per_complex': 1000 * timing_csv['time'].mean()}\n",
    "    elif key in ['tankbind', 'diffdock']:\n",
    "        analysis_df[-1] |= {'per_pose': 1000 * method_df.per_pose.mean(), 'per_complex': 1000 * method_df.per_complex.mean()}\n",
    "analysis_df = pd.DataFrame(analysis_df)\n",
    "analysis_df['pct'] = analysis_df['per_pose'] * (32**3 - 1) / analysis_df['per_complex']\n",
    "analysis_df"
   ]
  },
  {
   "cell_type": "markdown",
   "id": "56c6deb0-57c2-4d71-9de9-8a8a872b23c5",
   "metadata": {},
   "source": [
    "### ESMFold scoring"
   ]
  },
  {
   "cell_type": "code",
   "execution_count": 42,
   "id": "7cf821d7-718c-42e4-bf9c-704f3e625a74",
   "metadata": {},
   "outputs": [
    {
     "name": "stderr",
     "output_type": "stream",
     "text": [
      " 61%|███████████████████████████████████████████████████████████████████████████████████████████▋                                                          | 222/363 [01:58<01:25,  1.65it/s]"
     ]
    },
    {
     "name": "stdout",
     "output_type": "stream",
     "text": [
      "Error 6rtn Length of values (0) does not match length of index (32768)\n"
     ]
    },
    {
     "name": "stderr",
     "output_type": "stream",
     "text": [
      " 69%|██████████████████████████████████████████████████████████████████████████████████████████████████████▉                                               | 249/363 [02:12<01:01,  1.86it/s]"
     ]
    },
    {
     "name": "stdout",
     "output_type": "stream",
     "text": [
      "Error 6a73 [Errno 2] No such file or directory: '../data/PDBBind_processed/6a73/6a73_poses.csv'\n"
     ]
    },
    {
     "name": "stderr",
     "output_type": "stream",
     "text": [
      "100%|██████████████████████████████████████████████████████████████████████████████████████████████████████████████████████████████████████████████████████| 363/363 [03:12<00:00,  1.89it/s]\n"
     ]
    }
   ],
   "source": [
    "paths = {\n",
    "    'T': \"../paper_results/scoring/ESF/TS_pdbbind_esmfold/\",\n",
    "    'R': \"../paper_results/scoring/ESF/RS_pdbbind_esmfold/\",\n",
    "    'noise_T': \"../paper_results/scoring/ESF_N/TS_pdbbind_esmfold/\",\n",
    "    'noise_R': \"../paper_results/scoring/ESF_N/RS_pdbbind_esmfold/\",\n",
    "}\n",
    "keys = ['vina', 'gnina'] + list(paths.keys())\n",
    "df = pd.read_csv('../splits/timesplit_test.csv')\n",
    "pdbbind_dir = '../data/PDBBind_processed'\n",
    "\n",
    "method_dfs = defaultdict(list)\n",
    "for name in tqdm.tqdm(df.name):\n",
    "    try:\n",
    "        vina_out = f\"../paper_results/scoring/vina/pdbbind_esmfold/{name}.out\"\n",
    "        vina_out = open(vina_out).read().split('\\n')\n",
    "        vina_scores = [-float(line.split()[1]) for line in vina_out if 'Affinity' in line]\n",
    "\n",
    "        gnina_out = f\"../paper_results/scoring/gnina/pdbbind_esmfold/{name}.out\"\n",
    "        gnina_out = open(gnina_out).read().split('\\n')\n",
    "        gnina_scores = [float(line.split()[1]) for line in gnina_out if 'CNNscore' in line]\n",
    "        csv = pd.read_csv(f\"{pdbbind_dir}/{name}/{name}_poses.csv\")\n",
    "        csv['gnina'] = gnina_scores\n",
    "        csv['vina'] = vina_scores\n",
    "        for key in paths:\n",
    "            our_scores = np.load(f\"{paths[key]}/{name}.npy\")\n",
    "            csv[key] = our_scores\n",
    "        for key in keys:\n",
    "            method_dfs[key].append({'name': name} | auroc(csv, key) | top1(csv, key))\n",
    "    except Exception as e:\n",
    "        print('Error', name, e)\n",
    "        pass"
   ]
  },
  {
   "cell_type": "code",
   "execution_count": 43,
   "id": "7f47fd71-745e-4727-b446-d2d00601e40e",
   "metadata": {},
   "outputs": [
    {
     "name": "stderr",
     "output_type": "stream",
     "text": [
      "100%|██████████████████████████████████████████████████████████████████████████████████████████████████████████████████████████████████████████████████████| 363/363 [00:09<00:00, 36.48it/s]"
     ]
    },
    {
     "name": "stdout",
     "output_type": "stream",
     "text": [
      "['6rtn', '6a73']\n"
     ]
    },
    {
     "name": "stderr",
     "output_type": "stream",
     "text": [
      "\n"
     ]
    }
   ],
   "source": [
    "# TankBind\n",
    "key = 'tankbind'\n",
    "errors = []\n",
    "for name in tqdm.tqdm(df.name):\n",
    "    if not os.path.exists(f\"../paper_results/scoring/tankbind/pdbbind_esmfold/{name}.npz\"): \n",
    "        errors.append(name); continue\n",
    "    tankbind_out = np.load(f\"../paper_results/scoring/tankbind/pdbbind_esmfold/{name}.npz\")\n",
    "    csv = pd.read_csv(f\"{pdbbind_dir}/{name}/{name}_poses.csv\")    \n",
    "    csv[key] = tankbind_out['scores']\n",
    "    method_dfs[key].append({'name': name} | auroc(csv, key) | top1(csv, key) | \\\n",
    "                           {'per_pose': tankbind_out['scoring_time'] / (32**3 - 1), 'per_complex': tankbind_out['total_time'] })\n",
    "print(errors)"
   ]
  },
  {
   "cell_type": "code",
   "execution_count": 44,
   "id": "c73cde8f-68e5-41d6-bb34-3397bcb5aa47",
   "metadata": {},
   "outputs": [
    {
     "name": "stderr",
     "output_type": "stream",
     "text": [
      "100%|██████████████████████████████████████████████████████████████████████████████████████████████████████████████████████████████████████████████████████| 363/363 [00:10<00:00, 36.14it/s]"
     ]
    },
    {
     "name": "stdout",
     "output_type": "stream",
     "text": [
      "['6o0h', '6rtn', '6a73']\n"
     ]
    },
    {
     "name": "stderr",
     "output_type": "stream",
     "text": [
      "\n"
     ]
    }
   ],
   "source": [
    "# DiffDock\n",
    "errors = []\n",
    "key = 'diffdock'\n",
    "for name in tqdm.tqdm(df.name):\n",
    "    if not os.path.exists(f\"../paper_results/scoring/diffdock/pdbbind_esmfold/{name}.npz\"):\n",
    "        errors.append(name); continue\n",
    "    diffdock_out = np.load(f\"../paper_results/scoring/diffdock/pdbbind_esmfold/{name}.npz\")\n",
    "    all_timings.append(diffdock_out['timing'].sum())\n",
    "    csv = pd.read_csv(f\"{pdbbind_dir}/{name}/{name}_poses.csv\")    \n",
    "    csv[key] = diffdock_out['confidence'][:,0]\n",
    "    method_dfs[key].append({'name': name} | auroc(csv, key) | top1(csv, key) | \\\n",
    "                          {'per_pose': diffdock_out['timing'].sum() / (32**3 - 1), 'per_complex': diffdock_out['timing'].sum()})\n",
    "print(errors)"
   ]
  },
  {
   "cell_type": "code",
   "execution_count": 46,
   "id": "fc721e18-7fda-40e8-b9f7-e90502056cae",
   "metadata": {},
   "outputs": [
    {
     "data": {
      "text/html": [
       "<div>\n",
       "<style scoped>\n",
       "    .dataframe tbody tr th:only-of-type {\n",
       "        vertical-align: middle;\n",
       "    }\n",
       "\n",
       "    .dataframe tbody tr th {\n",
       "        vertical-align: top;\n",
       "    }\n",
       "\n",
       "    .dataframe thead th {\n",
       "        text-align: right;\n",
       "    }\n",
       "</style>\n",
       "<table border=\"1\" class=\"dataframe\">\n",
       "  <thead>\n",
       "    <tr style=\"text-align: right;\">\n",
       "      <th></th>\n",
       "      <th>method</th>\n",
       "      <th>auroc&lt;2.0</th>\n",
       "      <th>top1_rmsd</th>\n",
       "      <th>toprank</th>\n",
       "      <th>rmsd&lt;2</th>\n",
       "      <th>per_pose</th>\n",
       "      <th>per_complex</th>\n",
       "      <th>pct</th>\n",
       "    </tr>\n",
       "  </thead>\n",
       "  <tbody>\n",
       "    <tr>\n",
       "      <th>0</th>\n",
       "      <td>vina</td>\n",
       "      <td>0.856654</td>\n",
       "      <td>2.427288</td>\n",
       "      <td>419.0</td>\n",
       "      <td>0.429363</td>\n",
       "      <td>3.267835</td>\n",
       "      <td>1.070771e+05</td>\n",
       "      <td>1.000000</td>\n",
       "    </tr>\n",
       "    <tr>\n",
       "      <th>1</th>\n",
       "      <td>gnina</td>\n",
       "      <td>0.837391</td>\n",
       "      <td>2.190598</td>\n",
       "      <td>1110.0</td>\n",
       "      <td>0.462604</td>\n",
       "      <td>13.284013</td>\n",
       "      <td>4.352773e+05</td>\n",
       "      <td>1.000000</td>\n",
       "    </tr>\n",
       "    <tr>\n",
       "      <th>2</th>\n",
       "      <td>T</td>\n",
       "      <td>0.818127</td>\n",
       "      <td>1.389710</td>\n",
       "      <td>24.0</td>\n",
       "      <td>0.567867</td>\n",
       "      <td>0.000963</td>\n",
       "      <td>3.169801e+03</td>\n",
       "      <td>0.009956</td>\n",
       "    </tr>\n",
       "    <tr>\n",
       "      <th>3</th>\n",
       "      <td>R</td>\n",
       "      <td>0.816608</td>\n",
       "      <td>1.751995</td>\n",
       "      <td>22.0</td>\n",
       "      <td>0.534626</td>\n",
       "      <td>0.008159</td>\n",
       "      <td>6.061820e+03</td>\n",
       "      <td>0.044105</td>\n",
       "    </tr>\n",
       "    <tr>\n",
       "      <th>4</th>\n",
       "      <td>noise_T</td>\n",
       "      <td>0.867949</td>\n",
       "      <td>1.643191</td>\n",
       "      <td>22.0</td>\n",
       "      <td>0.542936</td>\n",
       "      <td>0.002606</td>\n",
       "      <td>4.917672e+03</td>\n",
       "      <td>0.017365</td>\n",
       "    </tr>\n",
       "    <tr>\n",
       "      <th>5</th>\n",
       "      <td>noise_R</td>\n",
       "      <td>0.868098</td>\n",
       "      <td>1.740755</td>\n",
       "      <td>26.0</td>\n",
       "      <td>0.529086</td>\n",
       "      <td>0.008170</td>\n",
       "      <td>5.692995e+03</td>\n",
       "      <td>0.047026</td>\n",
       "    </tr>\n",
       "    <tr>\n",
       "      <th>6</th>\n",
       "      <td>tankbind</td>\n",
       "      <td>0.638461</td>\n",
       "      <td>4.218317</td>\n",
       "      <td>8538.0</td>\n",
       "      <td>0.091413</td>\n",
       "      <td>0.001085</td>\n",
       "      <td>6.765363e+01</td>\n",
       "      <td>0.525457</td>\n",
       "    </tr>\n",
       "    <tr>\n",
       "      <th>7</th>\n",
       "      <td>diffdock</td>\n",
       "      <td>0.890674</td>\n",
       "      <td>2.012072</td>\n",
       "      <td>142.5</td>\n",
       "      <td>0.497222</td>\n",
       "      <td>62.387745</td>\n",
       "      <td>2.044259e+06</td>\n",
       "      <td>1.000000</td>\n",
       "    </tr>\n",
       "  </tbody>\n",
       "</table>\n",
       "</div>"
      ],
      "text/plain": [
       "     method  auroc<2.0  top1_rmsd  toprank    rmsd<2   per_pose   per_complex  \\\n",
       "0      vina   0.856654   2.427288    419.0  0.429363   3.267835  1.070771e+05   \n",
       "1     gnina   0.837391   2.190598   1110.0  0.462604  13.284013  4.352773e+05   \n",
       "2         T   0.818127   1.389710     24.0  0.567867   0.000963  3.169801e+03   \n",
       "3         R   0.816608   1.751995     22.0  0.534626   0.008159  6.061820e+03   \n",
       "4   noise_T   0.867949   1.643191     22.0  0.542936   0.002606  4.917672e+03   \n",
       "5   noise_R   0.868098   1.740755     26.0  0.529086   0.008170  5.692995e+03   \n",
       "6  tankbind   0.638461   4.218317   8538.0  0.091413   0.001085  6.765363e+01   \n",
       "7  diffdock   0.890674   2.012072    142.5  0.497222  62.387745  2.044259e+06   \n",
       "\n",
       "        pct  \n",
       "0  1.000000  \n",
       "1  1.000000  \n",
       "2  0.009956  \n",
       "3  0.044105  \n",
       "4  0.017365  \n",
       "5  0.047026  \n",
       "6  0.525457  \n",
       "7  1.000000  "
      ]
     },
     "execution_count": 46,
     "metadata": {},
     "output_type": "execute_result"
    }
   ],
   "source": [
    "analysis_df = []\n",
    "for key in method_dfs:\n",
    "    method_df = pd.DataFrame(method_dfs[key])\n",
    "    analysis_df.append({'method': key} | dict(method_df.median(numeric_only=True)) | {'rmsd<2': (method_df['top1_rmsd'] < 2).mean()})\n",
    "    if key in paths:\n",
    "        timing_csv = pd.read_csv(f'{paths[key]}/timings.csv')\n",
    "        analysis_df[-1] |= {'per_pose': timing_csv['scoring'].mean() / (32**3 - 1), 'per_complex': timing_csv['all'].mean()}\n",
    "    elif key in ['vina', 'gnina']:\n",
    "        timing_csv = pd.read_csv(f'../paper_results/scoring/{key}/pdbbind_esmfold.csv')\n",
    "        analysis_df[-1] |= {'per_pose': 1000 * timing_csv['time'].mean() / (32**3 - 1), 'per_complex': 1000 * timing_csv['time'].mean()}\n",
    "    elif key in ['tankbind', 'diffdock']:\n",
    "        analysis_df[-1] |= {'per_pose': 1000 * method_df.per_pose.mean(), 'per_complex': 1000 * method_df.per_complex.mean()}\n",
    "analysis_df = pd.DataFrame(analysis_df)\n",
    "analysis_df['pct'] = analysis_df['per_pose'] * (32**3 - 1) / analysis_df['per_complex']\n",
    "analysis_df"
   ]
  },
  {
   "cell_type": "markdown",
   "id": "89ec37cf-a609-49bc-b4e6-cb88b34edce4",
   "metadata": {},
   "source": [
    "### Timings"
   ]
  },
  {
   "cell_type": "code",
   "execution_count": 13,
   "id": "40d28ef2-47ce-4bb1-a60c-9cec172ef6e9",
   "metadata": {},
   "outputs": [
    {
     "name": "stdout",
     "output_type": "stream",
     "text": [
      "../paper_results/scoring/ESF/TS_pdbbind/timings.csv                              0.0013513534282868602 3800.5023700269785\n",
      "../paper_results/scoring/ESF/TS_pdbbind_esmfold/timings.csv                      0.0009628568394202474 3115.613517598209\n",
      "../paper_results/scoring/ESF_N/TS_pdbbind/timings.csv                            0.0009618077947379788 3164.313866333528\n",
      "../paper_results/scoring/ESF_N/TS_pdbbind_esmfold/timings.csv                    0.002603903936522023 4854.7292849277155\n"
     ]
    }
   ],
   "source": [
    "for path in [ # T-SCORING RUNS\n",
    "    '../paper_results/scoring/ESF/TS_pdbbind/timings.csv',\n",
    "    '../paper_results/scoring/ESF/TS_pdbbind_esmfold/timings.csv',\n",
    "    '../paper_results/scoring/ESF_N/TS_pdbbind/timings.csv',\n",
    "    '../paper_results/scoring/ESF_N/TS_pdbbind_esmfold/timings.csv',\n",
    "]:\n",
    "    timings = pd.read_csv(path).iloc[10:]\n",
    "    print(path.ljust(80), timings['scoring'].mean() / 32**3, timings['all'].mean())"
   ]
  },
  {
   "cell_type": "code",
   "execution_count": 14,
   "id": "2cda0605-0ea3-4776-96e4-2ba6bac36f1e",
   "metadata": {},
   "outputs": [
    {
     "name": "stdout",
     "output_type": "stream",
     "text": [
      "../paper_results/scoring/ESF/RS_pdbbind/timings.csv                              0.00816645910857584 5678.557356650179\n",
      "../paper_results/scoring/ESF/RS_pdbbind_esmfold/timings.csv                      0.008158907763914675 6002.632096961693\n",
      "../paper_results/scoring/ESF_N/RS_pdbbind/timings.csv                            0.008167465368222276 5693.4107027270575\n",
      "../paper_results/scoring/ESF_N/RS_pdbbind_esmfold/timings.csv                    0.008170008738963013 5629.246268177304\n"
     ]
    }
   ],
   "source": [
    "for path in [ # R-SCORING RUNS\n",
    "    '../paper_results/scoring/ESF/RS_pdbbind/timings.csv',\n",
    "    '../paper_results/scoring/ESF/RS_pdbbind_esmfold/timings.csv',\n",
    "    '../paper_results/scoring/ESF_N/RS_pdbbind/timings.csv',\n",
    "    '../paper_results/scoring/ESF_N/RS_pdbbind_esmfold/timings.csv',\n",
    "]:  \n",
    "    timings = pd.read_csv(path).iloc[10:]\n",
    "    print(path.ljust(80), timings['scoring'].mean() / 32**3, timings['all'].mean())"
   ]
  },
  {
   "cell_type": "markdown",
   "id": "d31b48a9-f5f1-4351-9ca3-2dfd822f8434",
   "metadata": {},
   "source": [
    "## Table 3 - rigid conformer docking"
   ]
  },
  {
   "cell_type": "code",
   "execution_count": 15,
   "id": "b7d4436d-0cca-47b7-b2a3-f4d965230b1a",
   "metadata": {},
   "outputs": [],
   "source": [
    "def analyze(path):\n",
    "    js = json.load(open(path))\n",
    "    df = pd.DataFrame(js['rmsds']).T\n",
    "    df['rot_rmsd'] = (df['rmsd']**2 - df['tr_rmsd']**2)**0.5\n",
    "    df['grid_offset'] = (df['tr_grid_offset']**2 + df['rot_grid_offset']**2)**0.5\n",
    "    tim = pd.DataFrame(js['timings']).T\n",
    "    return df, tim\n",
    "\n",
    "def analyze_pde10a(path):\n",
    "    df, tim = analyze(path)\n",
    "    entry = dict(df.median()) | {\n",
    "        'pct<2': (df.rmsd < 2).mean(),\n",
    "        'time': tim['cross_correlate'].mean() + tim['readout'].mean(),\n",
    "        'all': tim.sum().sum() / (len(df) - 1)\n",
    "    }\n",
    "    return df, tim, entry"
   ]
  },
  {
   "cell_type": "markdown",
   "id": "ade3ff4b-eb8c-41db-8f8b-59bfed9d0113",
   "metadata": {},
   "source": [
    "### PDBBind"
   ]
  },
  {
   "cell_type": "code",
   "execution_count": 16,
   "id": "11be0903-fcff-40dc-86cf-c4c426797818",
   "metadata": {},
   "outputs": [
    {
     "name": "stdout",
     "output_type": "stream",
     "text": [
      "333\n"
     ]
    },
    {
     "data": {
      "text/html": [
       "<div>\n",
       "<style scoped>\n",
       "    .dataframe tbody tr th:only-of-type {\n",
       "        vertical-align: middle;\n",
       "    }\n",
       "\n",
       "    .dataframe tbody tr th {\n",
       "        vertical-align: top;\n",
       "    }\n",
       "\n",
       "    .dataframe thead th {\n",
       "        text-align: right;\n",
       "    }\n",
       "</style>\n",
       "<table border=\"1\" class=\"dataframe\">\n",
       "  <thead>\n",
       "    <tr style=\"text-align: right;\">\n",
       "      <th></th>\n",
       "      <th>name</th>\n",
       "      <th>pct&lt;2</th>\n",
       "      <th>rmsd</th>\n",
       "      <th>grid_offset</th>\n",
       "      <th>time</th>\n",
       "      <th>time_all</th>\n",
       "    </tr>\n",
       "  </thead>\n",
       "  <tbody>\n",
       "    <tr>\n",
       "      <th>0</th>\n",
       "      <td>T</td>\n",
       "      <td>0.699700</td>\n",
       "      <td>1.125495</td>\n",
       "      <td>0.666174</td>\n",
       "      <td>780.263848</td>\n",
       "      <td>8320.452813</td>\n",
       "    </tr>\n",
       "    <tr>\n",
       "      <th>1</th>\n",
       "      <td>R</td>\n",
       "      <td>0.705706</td>\n",
       "      <td>0.965665</td>\n",
       "      <td>0.522667</td>\n",
       "      <td>478.516265</td>\n",
       "      <td>66749.398061</td>\n",
       "    </tr>\n",
       "    <tr>\n",
       "      <th>2</th>\n",
       "      <td>noise_T</td>\n",
       "      <td>0.720721</td>\n",
       "      <td>1.104596</td>\n",
       "      <td>0.667066</td>\n",
       "      <td>723.806405</td>\n",
       "      <td>8166.544446</td>\n",
       "    </tr>\n",
       "    <tr>\n",
       "      <th>3</th>\n",
       "      <td>noise_R</td>\n",
       "      <td>0.729730</td>\n",
       "      <td>0.997074</td>\n",
       "      <td>0.534659</td>\n",
       "      <td>477.719273</td>\n",
       "      <td>67695.861123</td>\n",
       "    </tr>\n",
       "    <tr>\n",
       "      <th>4</th>\n",
       "      <td>default</td>\n",
       "      <td>0.793388</td>\n",
       "      <td>0.318332</td>\n",
       "      <td>NaN</td>\n",
       "      <td>21332.200317</td>\n",
       "      <td>NaN</td>\n",
       "    </tr>\n",
       "    <tr>\n",
       "      <th>5</th>\n",
       "      <td>score_only</td>\n",
       "      <td>0.000000</td>\n",
       "      <td>37.036648</td>\n",
       "      <td>NaN</td>\n",
       "      <td>929.515594</td>\n",
       "      <td>NaN</td>\n",
       "    </tr>\n",
       "    <tr>\n",
       "      <th>6</th>\n",
       "      <td>gnina</td>\n",
       "      <td>0.774105</td>\n",
       "      <td>0.327086</td>\n",
       "      <td>NaN</td>\n",
       "      <td>23871.171836</td>\n",
       "      <td>NaN</td>\n",
       "    </tr>\n",
       "  </tbody>\n",
       "</table>\n",
       "</div>"
      ],
      "text/plain": [
       "         name     pct<2       rmsd  grid_offset          time      time_all\n",
       "0           T  0.699700   1.125495     0.666174    780.263848   8320.452813\n",
       "1           R  0.705706   0.965665     0.522667    478.516265  66749.398061\n",
       "2     noise_T  0.720721   1.104596     0.667066    723.806405   8166.544446\n",
       "3     noise_R  0.729730   0.997074     0.534659    477.719273  67695.861123\n",
       "4     default  0.793388   0.318332          NaN  21332.200317           NaN\n",
       "5  score_only  0.000000  37.036648          NaN    929.515594           NaN\n",
       "6       gnina  0.774105   0.327086          NaN  23871.171836           NaN"
      ]
     },
     "execution_count": 16,
     "metadata": {},
     "output_type": "execute_result"
    }
   ],
   "source": [
    "df = pd.read_csv('../paper_results/docking/gnina/pdbbind/default.csv')\n",
    "pdb_ids = df.name[df.rmsd == df.rmsd]\n",
    "print(len(pdb_ids))\n",
    "paths = {\n",
    "    'T': '../paper_results/docking/ESF/pdbbind/T_grid2_scaling1.json',\n",
    "    'R': '../paper_results/docking/ESF/pdbbind/R_box9_lmax25.json',\n",
    "    'noise_T': '../paper_results/docking/ESF_N/pdbbind/T_grid2_scaling1.json',\n",
    "    'noise_R': '../paper_results/docking/ESF_N/pdbbind/R_box9_lmax25.json'\n",
    "}\n",
    "entries = []\n",
    "for key in paths:\n",
    "    df, tim = analyze(paths[key])\n",
    "    df, tim = df.loc[pdb_ids], tim.loc[pdb_ids].iloc[10:]\n",
    "    unit_time = sum(tim[k].mean() for k in ['fft', 'cross_correlate', 'readout'] if k in tim)\n",
    "    entries.append({'name': key, 'pct<2': (df.rmsd < 2).mean(),\n",
    "                    'rmsd': df['rmsd'].median(), 'grid_offset': df['grid_offset'].median(), \n",
    "                    'time': unit_time, 'time_all': tim['all'].mean()})\n",
    "    \n",
    "csvs = {\n",
    "    'default': '../paper_results/docking/gnina/pdbbind/default.csv',\n",
    "    'score_only': '../paper_results/docking/gnina/pdbbind/score_only.csv',\n",
    "    'gnina': '../paper_results/docking/gnina/pdbbind/gnina.csv',\n",
    "}\n",
    "for csv in csvs:\n",
    "    df = pd.read_csv(csvs[csv])\n",
    "    entries.append({'name': csv, 'pct<2': (df.rmsd < 2).mean(), 'rmsd': df.rmsd.median(), 'time': 1000 * df.time.mean()})\n",
    "entries = pd.DataFrame(entries)\n",
    "entries"
   ]
  },
  {
   "cell_type": "markdown",
   "id": "e3df201e-49db-40cc-8165-d2afd3b994c0",
   "metadata": {},
   "source": [
    "### PDBBind ESMFold"
   ]
  },
  {
   "cell_type": "code",
   "execution_count": 17,
   "id": "7a19b390-6aab-43b8-964f-6177baa85a0e",
   "metadata": {},
   "outputs": [
    {
     "name": "stdout",
     "output_type": "stream",
     "text": [
      "333\n"
     ]
    },
    {
     "data": {
      "text/html": [
       "<div>\n",
       "<style scoped>\n",
       "    .dataframe tbody tr th:only-of-type {\n",
       "        vertical-align: middle;\n",
       "    }\n",
       "\n",
       "    .dataframe tbody tr th {\n",
       "        vertical-align: top;\n",
       "    }\n",
       "\n",
       "    .dataframe thead th {\n",
       "        text-align: right;\n",
       "    }\n",
       "</style>\n",
       "<table border=\"1\" class=\"dataframe\">\n",
       "  <thead>\n",
       "    <tr style=\"text-align: right;\">\n",
       "      <th></th>\n",
       "      <th>name</th>\n",
       "      <th>pct&lt;2</th>\n",
       "      <th>rmsd</th>\n",
       "      <th>grid_offset</th>\n",
       "      <th>time</th>\n",
       "      <th>time_all</th>\n",
       "    </tr>\n",
       "  </thead>\n",
       "  <tbody>\n",
       "    <tr>\n",
       "      <th>0</th>\n",
       "      <td>T</td>\n",
       "      <td>0.312312</td>\n",
       "      <td>4.575101</td>\n",
       "      <td>0.653368</td>\n",
       "      <td>734.345484</td>\n",
       "      <td>8136.157242</td>\n",
       "    </tr>\n",
       "    <tr>\n",
       "      <th>1</th>\n",
       "      <td>R</td>\n",
       "      <td>0.315315</td>\n",
       "      <td>4.377143</td>\n",
       "      <td>0.508446</td>\n",
       "      <td>470.804730</td>\n",
       "      <td>62818.092969</td>\n",
       "    </tr>\n",
       "    <tr>\n",
       "      <th>2</th>\n",
       "      <td>noise_T</td>\n",
       "      <td>0.456456</td>\n",
       "      <td>2.857305</td>\n",
       "      <td>0.656374</td>\n",
       "      <td>748.187767</td>\n",
       "      <td>8196.442644</td>\n",
       "    </tr>\n",
       "    <tr>\n",
       "      <th>3</th>\n",
       "      <td>noise_R</td>\n",
       "      <td>0.465465</td>\n",
       "      <td>3.008733</td>\n",
       "      <td>0.523161</td>\n",
       "      <td>477.635502</td>\n",
       "      <td>64459.533702</td>\n",
       "    </tr>\n",
       "    <tr>\n",
       "      <th>4</th>\n",
       "      <td>default</td>\n",
       "      <td>0.236915</td>\n",
       "      <td>6.149646</td>\n",
       "      <td>NaN</td>\n",
       "      <td>15676.110242</td>\n",
       "      <td>NaN</td>\n",
       "    </tr>\n",
       "    <tr>\n",
       "      <th>5</th>\n",
       "      <td>score_only</td>\n",
       "      <td>0.000000</td>\n",
       "      <td>37.036648</td>\n",
       "      <td>NaN</td>\n",
       "      <td>1898.002729</td>\n",
       "      <td>NaN</td>\n",
       "    </tr>\n",
       "    <tr>\n",
       "      <th>6</th>\n",
       "      <td>gnina</td>\n",
       "      <td>0.283747</td>\n",
       "      <td>5.900586</td>\n",
       "      <td>NaN</td>\n",
       "      <td>16615.527507</td>\n",
       "      <td>NaN</td>\n",
       "    </tr>\n",
       "  </tbody>\n",
       "</table>\n",
       "</div>"
      ],
      "text/plain": [
       "         name     pct<2       rmsd  grid_offset          time      time_all\n",
       "0           T  0.312312   4.575101     0.653368    734.345484   8136.157242\n",
       "1           R  0.315315   4.377143     0.508446    470.804730  62818.092969\n",
       "2     noise_T  0.456456   2.857305     0.656374    748.187767   8196.442644\n",
       "3     noise_R  0.465465   3.008733     0.523161    477.635502  64459.533702\n",
       "4     default  0.236915   6.149646          NaN  15676.110242           NaN\n",
       "5  score_only  0.000000  37.036648          NaN   1898.002729           NaN\n",
       "6       gnina  0.283747   5.900586          NaN  16615.527507           NaN"
      ]
     },
     "execution_count": 17,
     "metadata": {},
     "output_type": "execute_result"
    }
   ],
   "source": [
    "df = pd.read_csv('../paper_results/docking/gnina/pdbbind_esmfold/default.csv')\n",
    "pdb_ids = df.name[df.rmsd == df.rmsd]\n",
    "print(len(pdb_ids))\n",
    "paths = {\n",
    "    'T': '../paper_results/docking/ESF/pdbbind_esmfold/T_grid2_scaling1.json',\n",
    "    'R': '../paper_results/docking/ESF/pdbbind_esmfold/R_box9_lmax25.json',\n",
    "    'noise_T': '../paper_results/docking/ESF_N/pdbbind_esmfold/T_grid2_scaling1.json',\n",
    "    'noise_R': '../paper_results/docking/ESF_N/pdbbind_esmfold/R_box9_lmax25.json'\n",
    "}\n",
    "entries = []\n",
    "for key in paths:\n",
    "    df, tim = analyze(paths[key])\n",
    "    df, tim = df.loc[pdb_ids], tim.loc[pdb_ids].iloc[10:]\n",
    "    unit_time = sum(tim[k].mean() for k in ['fft', 'cross_correlate', 'readout'] if k in tim)\n",
    "    entries.append({'name': key, 'pct<2': (df.rmsd < 2).mean(),\n",
    "                    'rmsd': df['rmsd'].median(), 'grid_offset': df['grid_offset'].median(), \n",
    "                    'time': unit_time, 'time_all': tim['all'].mean()})\n",
    "\n",
    "csvs = {\n",
    "    'default': '../paper_results/docking/gnina/pdbbind_esmfold/default.csv',\n",
    "    'score_only': '../paper_results/docking/gnina/pdbbind_esmfold/score_only.csv',\n",
    "    'gnina': '../paper_results/docking/gnina/pdbbind_esmfold/gnina.csv',\n",
    "}\n",
    "for csv in csvs:\n",
    "    df = pd.read_csv(csvs[csv])\n",
    "    entries.append({'name': csv, 'pct<2': (df.rmsd < 2).mean(), 'rmsd': df.rmsd.median(), 'time': 1000 * df.time.mean()})\n",
    "entries = pd.DataFrame(entries)\n",
    "entries"
   ]
  },
  {
   "cell_type": "markdown",
   "id": "4508ed6b-f947-4f36-b38c-fa38050e6606",
   "metadata": {},
   "source": [
    "### PDE10A"
   ]
  },
  {
   "cell_type": "code",
   "execution_count": 18,
   "id": "0ec32574-9a18-49f1-ab42-fde96f464815",
   "metadata": {},
   "outputs": [
    {
     "name": "stdout",
     "output_type": "stream",
     "text": [
      "70\n"
     ]
    },
    {
     "data": {
      "text/html": [
       "<div>\n",
       "<style scoped>\n",
       "    .dataframe tbody tr th:only-of-type {\n",
       "        vertical-align: middle;\n",
       "    }\n",
       "\n",
       "    .dataframe tbody tr th {\n",
       "        vertical-align: top;\n",
       "    }\n",
       "\n",
       "    .dataframe thead th {\n",
       "        text-align: right;\n",
       "    }\n",
       "</style>\n",
       "<table border=\"1\" class=\"dataframe\">\n",
       "  <thead>\n",
       "    <tr style=\"text-align: right;\">\n",
       "      <th></th>\n",
       "      <th>name</th>\n",
       "      <th>pct&lt;2</th>\n",
       "      <th>rmsd</th>\n",
       "      <th>grid_offset</th>\n",
       "      <th>time</th>\n",
       "      <th>time_all</th>\n",
       "    </tr>\n",
       "  </thead>\n",
       "  <tbody>\n",
       "    <tr>\n",
       "      <th>0</th>\n",
       "      <td>T</td>\n",
       "      <td>0.671429</td>\n",
       "      <td>1.201335</td>\n",
       "      <td>0.693207</td>\n",
       "      <td>952.949657</td>\n",
       "      <td>7055.453798</td>\n",
       "    </tr>\n",
       "    <tr>\n",
       "      <th>1</th>\n",
       "      <td>R</td>\n",
       "      <td>0.728571</td>\n",
       "      <td>0.822772</td>\n",
       "      <td>0.525635</td>\n",
       "      <td>477.739434</td>\n",
       "      <td>1494.846699</td>\n",
       "    </tr>\n",
       "    <tr>\n",
       "      <th>2</th>\n",
       "      <td>noise_T</td>\n",
       "      <td>0.642857</td>\n",
       "      <td>1.113944</td>\n",
       "      <td>0.686324</td>\n",
       "      <td>985.233527</td>\n",
       "      <td>7175.569025</td>\n",
       "    </tr>\n",
       "    <tr>\n",
       "      <th>3</th>\n",
       "      <td>noise_R</td>\n",
       "      <td>0.700000</td>\n",
       "      <td>1.004207</td>\n",
       "      <td>0.514965</td>\n",
       "      <td>466.527057</td>\n",
       "      <td>1463.952908</td>\n",
       "    </tr>\n",
       "    <tr>\n",
       "      <th>4</th>\n",
       "      <td>default</td>\n",
       "      <td>0.742857</td>\n",
       "      <td>0.747402</td>\n",
       "      <td>NaN</td>\n",
       "      <td>7514.434167</td>\n",
       "      <td>NaN</td>\n",
       "    </tr>\n",
       "    <tr>\n",
       "      <th>5</th>\n",
       "      <td>score_only</td>\n",
       "      <td>0.000000</td>\n",
       "      <td>57.171319</td>\n",
       "      <td>NaN</td>\n",
       "      <td>1444.799120</td>\n",
       "      <td>NaN</td>\n",
       "    </tr>\n",
       "    <tr>\n",
       "      <th>6</th>\n",
       "      <td>gnina</td>\n",
       "      <td>0.728571</td>\n",
       "      <td>0.770874</td>\n",
       "      <td>NaN</td>\n",
       "      <td>7442.702508</td>\n",
       "      <td>NaN</td>\n",
       "    </tr>\n",
       "  </tbody>\n",
       "</table>\n",
       "</div>"
      ],
      "text/plain": [
       "         name     pct<2       rmsd  grid_offset         time     time_all\n",
       "0           T  0.671429   1.201335     0.693207   952.949657  7055.453798\n",
       "1           R  0.728571   0.822772     0.525635   477.739434  1494.846699\n",
       "2     noise_T  0.642857   1.113944     0.686324   985.233527  7175.569025\n",
       "3     noise_R  0.700000   1.004207     0.514965   466.527057  1463.952908\n",
       "4     default  0.742857   0.747402          NaN  7514.434167          NaN\n",
       "5  score_only  0.000000  57.171319          NaN  1444.799120          NaN\n",
       "6       gnina  0.728571   0.770874          NaN  7442.702508          NaN"
      ]
     },
     "execution_count": 18,
     "metadata": {},
     "output_type": "execute_result"
    }
   ],
   "source": [
    "paths = {\n",
    "    'T': '../paper_results/docking/ESF/pde10a/T_grid2_scaling1.json',\n",
    "    'R': '../paper_results/docking/ESF/pde10a/R_box9_lmax25.json',\n",
    "    'noise_T': '../paper_results/docking/ESF_N/pde10a/T_grid2_scaling1.json',\n",
    "    'noise_R': '../paper_results/docking/ESF_N/pde10a/R_box9_lmax25.json'\n",
    "}\n",
    "df = pd.read_csv('../paper_results/docking/gnina/pde10a/default.csv')\n",
    "pdb_ids = df.name[df.rmsd == df.rmsd]\n",
    "print(len(pdb_ids))\n",
    "entries = []\n",
    "for key in paths:\n",
    "    df, tim = analyze(paths[key])\n",
    "    df = df.loc[pdb_ids]\n",
    "    tim = tim.loc[['preprocess'] + list(pdb_ids)]\n",
    "    \n",
    "    unit_time = sum(tim[k].mean() for k in ['cross_correlate', 'readout'])\n",
    "    entries.append({'name': key, 'pct<2': (df.rmsd < 2).mean(),\n",
    "                    'rmsd': df['rmsd'].median(), 'grid_offset': df['grid_offset'].median(), \n",
    "                    'time': unit_time, 'time_all': tim.sum().sum() / (len(tim) - 1)})\n",
    "\n",
    "\n",
    "csvs = {\n",
    "    'default': '../paper_results/docking/gnina/pde10a/default.csv',\n",
    "    'score_only': '../paper_results/docking/gnina/pde10a/score_only.csv',\n",
    "    'gnina': '../paper_results/docking/gnina/pde10a/gnina.csv',\n",
    "}\n",
    "for csv in csvs:\n",
    "    df = pd.read_csv(csvs[csv])\n",
    "    df = df.set_index('name').loc[pdb_ids]\n",
    "    entries.append({'name': csv, 'pct<2': (df.rmsd < 2).mean(), 'rmsd': df.rmsd.median(), 'time': 1000 * df.time.mean()})\n",
    "entries = pd.DataFrame(entries)\n",
    "entries"
   ]
  }
 ],
 "metadata": {
  "kernelspec": {
   "display_name": "Python 3 (ipykernel)",
   "language": "python",
   "name": "python3"
  },
  "language_info": {
   "codemirror_mode": {
    "name": "ipython",
    "version": 3
   },
   "file_extension": ".py",
   "mimetype": "text/x-python",
   "name": "python",
   "nbconvert_exporter": "python",
   "pygments_lexer": "ipython3",
   "version": "3.10.9"
  }
 },
 "nbformat": 4,
 "nbformat_minor": 5
}
